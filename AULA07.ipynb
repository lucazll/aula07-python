{
 "cells": [
  {
   "cell_type": "markdown",
   "metadata": {},
   "source": [
    "# AULA 07\n",
    "#### ATIVIDADE_01"
   ]
  },
  {
   "cell_type": "markdown",
   "metadata": {},
   "source": [
    "*Lucas*\n",
    "_Lucas_\n",
    "**_Negrito e italiano_**\n",
    "[texto alternativo](link)"
   ]
  },
  {
   "cell_type": "code",
   "execution_count": 1,
   "metadata": {},
   "outputs": [
    {
     "name": "stdout",
     "output_type": "stream",
     "text": [
      "1° lucas\n",
      "2° lourenço\n",
      "3° lopes\n"
     ]
    }
   ],
   "source": [
    "nome = ['lucas','lourenço','lopes']\n",
    "\n",
    "for i, j in enumerate(nome):\n",
    "    print(f'{i+1}° {j}')"
   ]
  },
  {
   "cell_type": "code",
   "execution_count": 2,
   "metadata": {},
   "outputs": [
    {
     "name": "stdout",
     "output_type": "stream",
     "text": [
      "l\n",
      "u\n",
      "c\n",
      "a\n",
      "s\n"
     ]
    }
   ],
   "source": [
    "for i in 'lucas':\n",
    "    print(i)"
   ]
  },
  {
   "cell_type": "code",
   "execution_count": 14,
   "metadata": {},
   "outputs": [
    {
     "name": "stdout",
     "output_type": "stream",
     "text": [
      "1\n",
      "2\n",
      "3\n",
      "4\n",
      "5\n",
      "6\n",
      "7\n",
      "8\n",
      "9\n",
      "10\n"
     ]
    }
   ],
   "source": [
    "for i in range(1, 10+1):\n",
    "    print(i)"
   ]
  },
  {
   "cell_type": "code",
   "execution_count": 4,
   "metadata": {},
   "outputs": [
    {
     "name": "stdout",
     "output_type": "stream",
     "text": [
      "78\n",
      "79\n",
      "80\n",
      "81\n",
      "82\n",
      "83\n",
      "84\n",
      "85\n",
      "86\n",
      "87\n",
      "88\n",
      "89\n",
      "90\n",
      "91\n",
      "92\n",
      "93\n",
      "94\n",
      "95\n",
      "96\n",
      "97\n",
      "98\n",
      "99\n",
      "100\n"
     ]
    }
   ],
   "source": [
    "inicio = int(input(\"Digite o número onde começa a contagem: \"))\n",
    "fim = int(input(\"Digite o número onde termina a contagem: \"))\n",
    "\n",
    "for i in range(inicio, fim+1):\n",
    "    print(i)"
   ]
  },
  {
   "cell_type": "code",
   "execution_count": 5,
   "metadata": {},
   "outputs": [
    {
     "name": "stdout",
     "output_type": "stream",
     "text": [
      "0\n",
      "2\n",
      "4\n",
      "6\n",
      "8\n",
      "10\n",
      "12\n",
      "14\n",
      "16\n",
      "18\n",
      "20\n"
     ]
    }
   ],
   "source": [
    "for i in range(0,21): \n",
    "    if i % 2 ==0:\n",
    "        print(i) "
   ]
  },
  {
   "cell_type": "code",
   "execution_count": 10,
   "metadata": {},
   "outputs": [
    {
     "name": "stdout",
     "output_type": "stream",
     "text": [
      "3 x 1 = 3\n",
      "3 x 2 = 6\n",
      "3 x 3 = 9\n",
      "3 x 4 = 12\n",
      "3 x 5 = 15\n",
      "3 x 6 = 18\n",
      "3 x 7 = 21\n",
      "3 x 8 = 24\n",
      "3 x 9 = 27\n",
      "3 x 10 = 30\n"
     ]
    }
   ],
   "source": [
    "x = int(input('Digite o número da tabuada: '))\n",
    "\n",
    "for num in range(1, 11):\n",
    "    print(f'{x} x {num} = {x*num}')"
   ]
  },
  {
   "cell_type": "code",
   "execution_count": 12,
   "metadata": {},
   "outputs": [
    {
     "name": "stdout",
     "output_type": "stream",
     "text": [
      "outra fruta!\n",
      "outra fruta!\n",
      "outra fruta!\n",
      "limao\n",
      "outra fruta!\n",
      "outra fruta!\n"
     ]
    }
   ],
   "source": [
    "lista = ['uva','melancia','abacate','limao','abacaxi','laranja']\n",
    "\n",
    "for i in lista:\n",
    "    if i =='limao':\n",
    "        print(i)\n",
    "    else:\n",
    "        print('outra fruta!')"
   ]
  },
  {
   "cell_type": "code",
   "execution_count": 22,
   "metadata": {},
   "outputs": [
    {
     "name": "stdout",
     "output_type": "stream",
     "text": [
      "contando 15...\n",
      "contando 14...\n",
      "contando 13...\n",
      "contando 12...\n",
      "contando 11...\n",
      "contando 10...\n",
      "contando 9...\n",
      "contando 8...\n",
      "contando 7...\n",
      "contando 6...\n",
      "contando 5...\n",
      "contando 4...\n",
      "contando 3...\n",
      "contando 2...\n",
      "contando 1...\n",
      "contando 0...\n",
      "fim da contagem!\n"
     ]
    }
   ],
   "source": [
    "from time import sleep\n",
    "import os\n",
    "x = int(input('Digite o numero de segundos da contagem regressiva: '))\n",
    "for i in range(x, -1, -1):\n",
    "    print(f'contando {i}...')\n",
    "    sleep(1)\n",
    "\n",
    "print(\"fim da contagem!\")\n"
   ]
  },
  {
   "cell_type": "markdown",
   "metadata": {},
   "source": [
    "criar um sistema que realize a contagem de 1 a 100 usando apenas numeros imparese ao final do processo exiba na tela quantos numeros impares foram encontrados nesse intervalo, assim como o soma dos mesmos."
   ]
  }
 ],
 "metadata": {
  "kernelspec": {
   "display_name": "venv",
   "language": "python",
   "name": "python3"
  },
  "language_info": {
   "codemirror_mode": {
    "name": "ipython",
    "version": 3
   },
   "file_extension": ".py",
   "mimetype": "text/x-python",
   "name": "python",
   "nbconvert_exporter": "python",
   "pygments_lexer": "ipython3",
   "version": "3.12.5"
  }
 },
 "nbformat": 4,
 "nbformat_minor": 2
}
